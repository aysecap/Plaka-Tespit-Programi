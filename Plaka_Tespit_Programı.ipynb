{
  "nbformat": 4,
  "nbformat_minor": 0,
  "metadata": {
    "colab": {
      "provenance": [],
      "mount_file_id": "1t6rKFsXUkwog3gUWUfckar4jbuaT_Js1",
      "authorship_tag": "ABX9TyN7SggiEEmfumB/UbPbkdtx",
      "include_colab_link": true
    },
    "kernelspec": {
      "name": "python3",
      "display_name": "Python 3"
    },
    "language_info": {
      "name": "python"
    }
  },
  "cells": [
    {
      "cell_type": "markdown",
      "metadata": {
        "id": "view-in-github",
        "colab_type": "text"
      },
      "source": [
        "<a href=\"https://colab.research.google.com/github/aysecap/Plaka-Tespit-Programi/blob/main/Plaka_Tespit_Program%C4%B1.ipynb\" target=\"_parent\"><img src=\"https://colab.research.google.com/assets/colab-badge.svg\" alt=\"Open In Colab\"/></a>"
      ]
    },
    {
      "cell_type": "code",
      "source": [
        "pip install easyocr"
      ],
      "metadata": {
        "colab": {
          "base_uri": "https://localhost:8080/"
        },
        "id": "RCRnwrKhDfZu",
        "outputId": "d99829b6-66c9-43a0-86ed-d9b6f2736a8f"
      },
      "execution_count": null,
      "outputs": [
        {
          "output_type": "stream",
          "name": "stdout",
          "text": [
            "Looking in indexes: https://pypi.org/simple, https://us-python.pkg.dev/colab-wheels/public/simple/\n",
            "Requirement already satisfied: easyocr in /usr/local/lib/python3.7/dist-packages (1.6.1)\n",
            "Requirement already satisfied: opencv-python-headless<=4.5.4.60 in /usr/local/lib/python3.7/dist-packages (from easyocr) (4.5.4.60)\n",
            "Requirement already satisfied: python-bidi in /usr/local/lib/python3.7/dist-packages (from easyocr) (0.4.2)\n",
            "Requirement already satisfied: torch in /usr/local/lib/python3.7/dist-packages (from easyocr) (1.12.1+cu113)\n",
            "Requirement already satisfied: torchvision>=0.5 in /usr/local/lib/python3.7/dist-packages (from easyocr) (0.13.1+cu113)\n",
            "Requirement already satisfied: scipy in /usr/local/lib/python3.7/dist-packages (from easyocr) (1.7.3)\n",
            "Requirement already satisfied: numpy in /usr/local/lib/python3.7/dist-packages (from easyocr) (1.21.6)\n",
            "Requirement already satisfied: Shapely in /usr/local/lib/python3.7/dist-packages (from easyocr) (1.8.4)\n",
            "Requirement already satisfied: Pillow in /usr/local/lib/python3.7/dist-packages (from easyocr) (7.1.2)\n",
            "Requirement already satisfied: pyclipper in /usr/local/lib/python3.7/dist-packages (from easyocr) (1.3.0.post3)\n",
            "Requirement already satisfied: scikit-image in /usr/local/lib/python3.7/dist-packages (from easyocr) (0.18.3)\n",
            "Requirement already satisfied: PyYAML in /usr/local/lib/python3.7/dist-packages (from easyocr) (6.0)\n",
            "Requirement already satisfied: ninja in /usr/local/lib/python3.7/dist-packages (from easyocr) (1.10.2.3)\n",
            "Requirement already satisfied: typing-extensions in /usr/local/lib/python3.7/dist-packages (from torchvision>=0.5->easyocr) (4.1.1)\n",
            "Requirement already satisfied: requests in /usr/local/lib/python3.7/dist-packages (from torchvision>=0.5->easyocr) (2.23.0)\n",
            "Requirement already satisfied: six in /usr/local/lib/python3.7/dist-packages (from python-bidi->easyocr) (1.15.0)\n",
            "Requirement already satisfied: certifi>=2017.4.17 in /usr/local/lib/python3.7/dist-packages (from requests->torchvision>=0.5->easyocr) (2022.6.15)\n",
            "Requirement already satisfied: idna<3,>=2.5 in /usr/local/lib/python3.7/dist-packages (from requests->torchvision>=0.5->easyocr) (2.10)\n",
            "Requirement already satisfied: chardet<4,>=3.0.2 in /usr/local/lib/python3.7/dist-packages (from requests->torchvision>=0.5->easyocr) (3.0.4)\n",
            "Requirement already satisfied: urllib3!=1.25.0,!=1.25.1,<1.26,>=1.21.1 in /usr/local/lib/python3.7/dist-packages (from requests->torchvision>=0.5->easyocr) (1.24.3)\n",
            "Requirement already satisfied: PyWavelets>=1.1.1 in /usr/local/lib/python3.7/dist-packages (from scikit-image->easyocr) (1.3.0)\n",
            "Requirement already satisfied: matplotlib!=3.0.0,>=2.0.0 in /usr/local/lib/python3.7/dist-packages (from scikit-image->easyocr) (3.2.2)\n",
            "Requirement already satisfied: tifffile>=2019.7.26 in /usr/local/lib/python3.7/dist-packages (from scikit-image->easyocr) (2021.11.2)\n",
            "Requirement already satisfied: networkx>=2.0 in /usr/local/lib/python3.7/dist-packages (from scikit-image->easyocr) (2.6.3)\n",
            "Requirement already satisfied: imageio>=2.3.0 in /usr/local/lib/python3.7/dist-packages (from scikit-image->easyocr) (2.9.0)\n",
            "Requirement already satisfied: pyparsing!=2.0.4,!=2.1.2,!=2.1.6,>=2.0.1 in /usr/local/lib/python3.7/dist-packages (from matplotlib!=3.0.0,>=2.0.0->scikit-image->easyocr) (3.0.9)\n",
            "Requirement already satisfied: cycler>=0.10 in /usr/local/lib/python3.7/dist-packages (from matplotlib!=3.0.0,>=2.0.0->scikit-image->easyocr) (0.11.0)\n",
            "Requirement already satisfied: kiwisolver>=1.0.1 in /usr/local/lib/python3.7/dist-packages (from matplotlib!=3.0.0,>=2.0.0->scikit-image->easyocr) (1.4.4)\n",
            "Requirement already satisfied: python-dateutil>=2.1 in /usr/local/lib/python3.7/dist-packages (from matplotlib!=3.0.0,>=2.0.0->scikit-image->easyocr) (2.8.2)\n"
          ]
        }
      ]
    },
    {
      "cell_type": "code",
      "execution_count": null,
      "metadata": {
        "id": "0386zR3tBUUw"
      },
      "outputs": [],
      "source": [
        "import cv2\n",
        "import numpy as np\n",
        "import imutils\n",
        "import easyocr\n"
      ]
    },
    {
      "cell_type": "code",
      "source": [
        "image = \"/content/car.png\"\n",
        "img = cv2.imread(image)\n",
        "\n",
        "gray= cv2.cvtColor(img,cv2.COLOR_BGR2GRAY)\n",
        "#gürültü azaltma\n",
        "filterb = cv2.bilateralFilter(gray,11,17,17)\n",
        "\n",
        "#kenar tespiti\n",
        "edged = cv2.Canny(filterb,30,200)\n",
        "\n",
        "#konturları belirleme \n",
        "keypoints = cv2.findContours(\n",
        "    edged.copy(),cv2.RETR_TREE, cv2.CHAIN_APPROX_SIMPLE)\n",
        "contours = imutils.grab_contours(keypoints)\n",
        "contours = sorted(contours, key=cv2.contourArea, reverse=True)[:10]\n",
        "\n",
        "location = None\n",
        "for contour in contours :\n",
        "  approx = cv2.approxPolyDP(contour, 10, True)\n",
        "  if len(approx) == 4:\n",
        "     location= approx\n",
        "     break\n",
        "\n",
        "#maskeleme\n",
        "mask = np.zeros(gray.shape, np.uint8)\n",
        "new_image= cv2.drawContours(mask,[location],0,255,-1)\n",
        "new_image= cv2.bitwise_and(img,img,mask= mask)\n",
        "\n",
        "#plakayı kırpma bölümü\n",
        "(x,y)= np.where(mask==255)\n",
        "(x1,y1)= (np.min(x), np.min(y))\n",
        "(x2, y2)= (np.max(x), np.max(y))\n",
        "cropped_image = gray[x1:x2+1, y1:y2+1]\n",
        "\n",
        "#plakayı okumak kısmımız\n",
        "reader = easyocr.Reader([\"en\"])\n",
        "result = reader.readtext(cropped_image)\n",
        "print(result)\n",
        "\n",
        "#plakayı görüntünün üstüne yazma \n",
        "\n",
        "text = result[0][-2]\n",
        "font = cv2.FONT_HERSHEY_SIMPLEX\n",
        "res = cv2.putText(img, text= text, org = (approx[0][0][0], approx[1][0][1]+60),\n",
        "          fontFace= font, fontScale = 1 , color= (0,255,0), thickness=2, lineType= cv2.LINE_AA)\n",
        "\n",
        "res = cv2.rectangle(img,tuple(approx[0][0]),tuple(approx[2][0]),(0,255,0),3)\n",
        "\n",
        "\n",
        "\n",
        "cv2.imwrite(\"sonuc.png\",img)\n",
        "\n"
      ],
      "metadata": {
        "colab": {
          "base_uri": "https://localhost:8080/"
        },
        "id": "dJ2TxNgsDcaH",
        "outputId": "09157cff-e20e-43e7-bcbc-c8cb9ea7529f"
      },
      "execution_count": null,
      "outputs": [
        {
          "output_type": "stream",
          "name": "stderr",
          "text": [
            "WARNING:easyocr.easyocr:CUDA not available - defaulting to CPU. Note: This module is much faster with a GPU.\n"
          ]
        },
        {
          "output_type": "stream",
          "name": "stdout",
          "text": [
            "[([[0, 0], [98, 0], [98, 21], [0, 21]], '33AA 001', 0.7201667348598891)]\n"
          ]
        },
        {
          "output_type": "execute_result",
          "data": {
            "text/plain": [
              "True"
            ]
          },
          "metadata": {},
          "execution_count": 5
        }
      ]
    },
    {
      "cell_type": "code",
      "source": [
        "cv2.imwrite(\"sonuc.png\",img)"
      ],
      "metadata": {
        "colab": {
          "base_uri": "https://localhost:8080/"
        },
        "id": "MHDh_DTDNM12",
        "outputId": "6b1ff8f5-3498-4bf4-fd3a-b80445a74818"
      },
      "execution_count": null,
      "outputs": [
        {
          "output_type": "execute_result",
          "data": {
            "text/plain": [
              "True"
            ]
          },
          "metadata": {},
          "execution_count": 4
        }
      ]
    }
  ]
}